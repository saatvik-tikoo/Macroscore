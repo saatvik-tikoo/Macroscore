{
 "cells": [
  {
   "cell_type": "code",
   "execution_count": 1,
   "metadata": {},
   "outputs": [],
   "source": [
    "import pickle\n",
    "import pandas as pd\n",
    "from random import randint, seed"
   ]
  },
  {
   "cell_type": "code",
   "execution_count": 2,
   "metadata": {},
   "outputs": [
    {
     "name": "stdout",
     "output_type": "stream",
     "text": [
      "-----Reading Files-----\n"
     ]
    }
   ],
   "source": [
    "print('-----Reading Files-----')\n",
    "f = open('data/models.pkl', 'rb')\n",
    "gnb = pickle.load(f)\n",
    "neigh = pickle.load(f)\n",
    "forest = pickle.load(f)"
   ]
  },
  {
   "cell_type": "code",
   "execution_count": 3,
   "metadata": {},
   "outputs": [
    {
     "name": "stdout",
     "output_type": "stream",
     "text": [
      "-----Getting Random Numbers-----\n",
      "-----Getting KNN Predictions-----\n",
      "-----Getting Random Forest Predictions-----\n"
     ]
    }
   ],
   "source": [
    "files = ['finalData']\n",
    "\n",
    "for i in files:\n",
    "    df = pd.read_excel('data/{}.xlsx'.format(i))\n",
    "    print('-----Getting Random Numbers-----')\n",
    "    seed(0)\n",
    "    X = df.drop(['doi'], axis=1)\n",
    "    X = X.iloc[:, [randint(0, X.shape[1]) for _ in range(10)]]\n",
    "\n",
    "    print('-----Getting KNN Predictions-----')\n",
    "    df['KNN_predictions'] = neigh.predict(X)\n",
    "    prob = neigh.predict_proba(X)\n",
    "    df['KNN_confidence_class0'] = prob[:, 0]\n",
    "    df['KNN_confidence_class1'] = prob[:, 1]\n",
    "\n",
    "    print('-----Getting Random Forest Predictions-----')\n",
    "    df['Forest_predictions'] = forest.predict(X)\n",
    "    prob = forest.predict_proba(X)\n",
    "    df['Forest_confidence_class0'] = prob[:, 0]\n",
    "    df['Forest_confidence_class1'] = prob[:, 1]\n",
    "\n",
    "    df.loc[:, ['doi', 'KNN_predictions', 'KNN_confidence_class0', 'KNN_confidence_class1',\n",
    "               'Forest_confidence_class0', 'Forest_confidence_class1', 'Forest_predictions']].to_excel('data/Predictions.xlsx')\n"
   ]
  }
 ],
 "metadata": {
  "kernelspec": {
   "display_name": "Python 3",
   "language": "python",
   "name": "python3"
  },
  "language_info": {
   "codemirror_mode": {
    "name": "ipython",
    "version": 3
   },
   "file_extension": ".py",
   "mimetype": "text/x-python",
   "name": "python",
   "nbconvert_exporter": "python",
   "pygments_lexer": "ipython3",
   "version": "3.6.10"
  }
 },
 "nbformat": 4,
 "nbformat_minor": 4
}
