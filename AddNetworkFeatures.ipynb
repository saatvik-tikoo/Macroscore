{
 "cells": [
  {
   "cell_type": "code",
   "execution_count": null,
   "metadata": {},
   "outputs": [],
   "source": [
    "import json\n",
    "import os\n",
    "import pickle\n",
    "import networkx as nx\n",
    "import matplotlib.pyplot as plt\n",
    "import pandas as pd"
   ]
  },
  {
   "cell_type": "code",
   "execution_count": null,
   "metadata": {},
   "outputs": [],
   "source": [
    "class NetworkFetaures:\n",
    "    def __init__(self, file, graph_type):\n",
    "        self.df = None\n",
    "        self.file = file\n",
    "        self.graph_type = graph_type\n",
    "\n",
    "    def get_data(self, features=['DOI']):\n",
    "        self.df = pd.read_excel('data/new_data.xlsx', encoding='ansi', )\n",
    "\n",
    "    def addNetworkFeatures(self, graph_type='wos'):\n",
    "        g = nx.read_gpickle('data/citations_network_2hops_wos.gpickle')\n",
    "        with open(self.file, 'r') as f_read:\n",
    "            lines = f_read.readlines()\n",
    "            if graph_type == 'mag':\n",
    "                mappings = json.loads(json.dumps(pickle.load(open(\"data/IDS_doi_mapping\", \"rb\"))))\n",
    "            lines_dict = dict()\n",
    "            for idx_l, line in enumerate(lines):\n",
    "                if idx_l > 0:\n",
    "                    vals = line.split(' ')\n",
    "                    if graph_type == 'wos':\n",
    "                        lines_dict[vals[0]] = vals[1:]\n",
    "                    elif graph_type == 'mag':\n",
    "                        lines_dict[mappings[vals[0]]] = vals[1:]\n",
    "\n",
    "            for _, row in self.df.iterrows():\n",
    "                doi = row['DOI'].replace('/', '_')\n",
    "                idx = 0\n",
    "                if doi in lines_dict:\n",
    "                    fields = lines_dict[doi]\n",
    "                    for idx, col in enumerate(fields):\n",
    "                        self.df.at[_, 'new_feature_' + str(idx + 1)] = col\n",
    "                print('--------------------DOI: {} and row: {} and total-cols are: {}--------------------'.format(doi, _ + 1, idx + 1))\n",
    "        print(self.df.shape)\n",
    "        self.df.to_excel('data/final_network_data.xlsx')\n",
    "        print('Done')\n",
    "\n",
    "    def display_graph(self):\n",
    "        print('-------------Generating Graph----------')\n",
    "        g = nx.read_gpickle(self.file)\n",
    "        print('Number of nodes in the graph: ', len(g.nodes()))\n",
    "        print('Number of edges in the graph: ', len(g.edges()))\n",
    "        nx.draw_networkx(G=g, pos=nx.spring_layout(g), node_color='r', alpha=0.8,\n",
    "                         node_size=[g.degree(n) * 3 for n in g.nodes()], with_labels=False)\n",
    "        plt.show()"
   ]
  },
  {
   "cell_type": "code",
   "execution_count": null,
   "metadata": {},
   "outputs": [],
   "source": [
    "if __name__ == '__main__':\n",
    "    # Set a proper file name and graph_type = 'wos' or 'mag'\n",
    "    cnn = NetworkFetaures(file='data/node2vec_citations_network_2hops_wos.emb', graph_type='wos')\n",
    "    cnn.get_data()\n",
    "    cnn.addNetworkFeatures()\n",
    "\n",
    "    # Uncomment below to display the generated graph\n",
    "    # cnn.display_graph('data/citations_network_2hops_wos.gpickle')\n"
   ]
  }
 ],
 "metadata": {
  "kernelspec": {
   "display_name": "Python 3",
   "language": "python",
   "name": "python3"
  },
  "language_info": {
   "codemirror_mode": {
    "name": "ipython",
    "version": 3
   },
   "file_extension": ".py",
   "mimetype": "text/x-python",
   "name": "python",
   "nbconvert_exporter": "python",
   "pygments_lexer": "ipython3",
   "version": "3.6.10"
  }
 },
 "nbformat": 4,
 "nbformat_minor": 4
}
