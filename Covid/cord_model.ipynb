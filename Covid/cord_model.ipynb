{
 "cells": [
  {
   "cell_type": "code",
   "execution_count": 1,
   "metadata": {},
   "outputs": [],
   "source": [
    "import pickle\n",
    "import pandas as pd\n",
    "from random import randint, seed"
   ]
  },
  {
   "cell_type": "code",
   "execution_count": 2,
   "metadata": {},
   "outputs": [
    {
     "name": "stdout",
     "output_type": "stream",
     "text": [
      "-----Reading Files-----\n"
     ]
    }
   ],
   "source": [
    "print('-----Reading Files-----')\n",
    "f = open('data/models.pkl', 'rb')\n",
    "gnb = pickle.load(f)\n",
    "neigh = pickle.load(f)\n",
    "forest = pickle.load(f)"
   ]
  },
  {
   "cell_type": "code",
   "execution_count": 3,
   "metadata": {},
   "outputs": [
    {
     "name": "stdout",
     "output_type": "stream",
     "text": [
      "-----Getting Random Numbers-----\n",
      "-----Getting Naive Bayes Predictions-----\n",
      "[0.00172787 0.00210131 0.00300408 ... 0.20796433 0.93792375 0.93792375]\n",
      "-----Getting KNN Predictions-----\n",
      "-----Getting Random Forest Predictions-----\n"
     ]
    }
   ],
   "source": [
    "files = ['finaldata_whole']\n",
    "\n",
    "for i in files:\n",
    "    df = pd.read_excel('data/covid19_kb/{}.xlsx'.format(i))\n",
    "    print('-----Getting Random Numbers-----')\n",
    "    seed(0)\n",
    "    df_subset = df.drop(['doi', 'Unnamed: 0'], axis=1).copy()\n",
    "    df_subset = df_subset.iloc[:, [randint(0, df_subset.shape[1]) for _ in range(10)]]\n",
    "    print('-----Getting Naive Bayes Predictions-----')\n",
    "    df['Naive_Bayes_predictions'] = gnb.predict(df_subset)\n",
    "    prob = gnb.predict_proba(df_subset)\n",
    "    df['Naive_Bayes_confidence_class0'] = prob[:, 0]\n",
    "    df['Naive_Bayes_confidence_class1'] = prob[:, 1]\n",
    "\n",
    "    print('-----Getting KNN Predictions-----')\n",
    "    df['KNN_predictions'] = neigh.predict(df_subset)\n",
    "    prob = neigh.predict_proba(df_subset)\n",
    "    df['KNN_confidence_class0'] = prob[:, 0]\n",
    "    df['KNN_confidence_class1'] = prob[:, 1]\n",
    "\n",
    "    print('-----Getting Random Forest Predictions-----')\n",
    "    df['Random_Forest_predictions'] = forest.predict(df_subset)\n",
    "    prob = forest.predict_proba(df_subset)\n",
    "    df['Random_Forest_confidence_class0'] = prob[:, 0]\n",
    "    df['Random_Forest_confidence_class1'] = prob[:, 1]\n",
    "\n",
    "    df.loc[:, ['doi', 'Naive_Bayes_predictions', 'Naive_Bayes_confidence_class0', 'Naive_Bayes_confidence_class1',\n",
    "               'KNN_predictions', 'KNN_confidence_class0', 'KNN_confidence_class1',\n",
    "               'Random_Forest_confidence_class0', 'Random_Forest_confidence_class1', 'Random_Forest_predictions']].to_excel('data/covid19_kb/{}_output.xlsx'.format(i))\n"
   ]
  }
 ],
 "metadata": {
  "kernelspec": {
   "display_name": "Python 3",
   "language": "python",
   "name": "python3"
  },
  "language_info": {
   "codemirror_mode": {
    "name": "ipython",
    "version": 3
   },
   "file_extension": ".py",
   "mimetype": "text/x-python",
   "name": "python",
   "nbconvert_exporter": "python",
   "pygments_lexer": "ipython3",
   "version": "3.6.10"
  }
 },
 "nbformat": 4,
 "nbformat_minor": 4
}
