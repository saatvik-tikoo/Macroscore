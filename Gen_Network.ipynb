{
 "cells": [
  {
   "cell_type": "code",
   "execution_count": 2,
   "metadata": {},
   "outputs": [],
   "source": [
    "import urllib.parse\n",
    "import rdflib as rdflib\n",
    "import networkx as nx"
   ]
  },
  {
   "cell_type": "code",
   "execution_count": 7,
   "metadata": {},
   "outputs": [],
   "source": [
    "import pandas as pd"
   ]
  },
  {
   "cell_type": "code",
   "execution_count": 45,
   "metadata": {},
   "outputs": [],
   "source": [
    "def create_graph(g, nx_graph, matches_map):\n",
    "    cnt = 0\n",
    "    for s, p, o in g:\n",
    "        if 'cites' in str(p).lower():\n",
    "            s_name = str(urllib.parse.unquote(str(s).split('/')[-1].strip())).lower()\n",
    "            o_name = str(urllib.parse.unquote(str(o).split('/')[-1].strip())).lower()\n",
    "            if '#' in s_name and s_name.split('#')[-1] in matches_map:\n",
    "                cnt += 1\n",
    "                s_name = matches_map[s_name.split('#')[-1]].lower()\n",
    "            if '#' in o_name and o_name.split('#')[-1] in matches_map:\n",
    "                cnt += 1\n",
    "                o_name = (matches_map[o_name.split('#')[-1]]).lower()\n",
    "            nx_graph.add_edge(s_name, o_name)\n",
    "    print(cnt)\n",
    "    return nx_graph"
   ]
  },
  {
   "cell_type": "code",
   "execution_count": 44,
   "metadata": {},
   "outputs": [],
   "source": [
    "def get_matchings():\n",
    "    data = pd.read_csv('data/CORD_19/metadata.csv', usecols=['doi', 'sha'])\n",
    "    match = dict()\n",
    "    for _, row in data.iterrows():\n",
    "        if not pd.isna(row['doi']) and not pd.isna(row['sha']):\n",
    "            match[(str(row['sha']).strip()).lower()] = (str(row['doi']).strip()).lower()\n",
    "    return match"
   ]
  },
  {
   "cell_type": "code",
   "execution_count": 3,
   "metadata": {},
   "outputs": [
    {
     "name": "stderr",
     "output_type": "stream",
     "text": [
      "http://dbpedia.org/datatype/polishZ\\u0142oty does not look like a valid URI, trying to serialize this will break.\n"
     ]
    }
   ],
   "source": [
    "g_kb = rdflib.Graph()\n",
    "g_kb.parse('data/covid19_kb/kg.nt', format='nt')\n",
    "generated_graph = nx.DiGraph()"
   ]
  },
  {
   "cell_type": "code",
   "execution_count": 17,
   "metadata": {},
   "outputs": [],
   "source": [
    "matches = get_matchings()"
   ]
  },
  {
   "cell_type": "code",
   "execution_count": 46,
   "metadata": {},
   "outputs": [
    {
     "name": "stdout",
     "output_type": "stream",
     "text": [
      "196842\n",
      "-------------Saving Graph--------------\n",
      "Number of nodes in the graph:  315790\n",
      "Number of edges in the graph:  460264\n",
      "-------------Graph Saved--------------\n"
     ]
    }
   ],
   "source": [
    "generated_graph = create_graph(g_kb, generated_graph, matches)\n",
    "\n",
    "print('-------------Saving Graph--------------')\n",
    "print('Number of nodes in the graph: ', len(generated_graph.nodes()))\n",
    "print('Number of edges in the graph: ', len(generated_graph.edges()))\n",
    "nx.write_gpickle(generated_graph, 'data/covid19_kb/references_network_whole.gpickle')\n",
    "print('-------------Graph Saved--------------')"
   ]
  }
 ],
 "metadata": {
  "kernelspec": {
   "display_name": "Python 3",
   "language": "python",
   "name": "python3"
  },
  "language_info": {
   "codemirror_mode": {
    "name": "ipython",
    "version": 3
   },
   "file_extension": ".py",
   "mimetype": "text/x-python",
   "name": "python",
   "nbconvert_exporter": "python",
   "pygments_lexer": "ipython3",
   "version": "3.6.10"
  }
 },
 "nbformat": 4,
 "nbformat_minor": 4
}
