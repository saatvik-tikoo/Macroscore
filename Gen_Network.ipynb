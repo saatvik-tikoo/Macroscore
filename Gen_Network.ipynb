{
 "cells": [
  {
   "cell_type": "code",
   "execution_count": 5,
   "metadata": {
    "scrolled": true
   },
   "outputs": [],
   "source": [
    "import pandas as pd\n",
    "import numpy as np\n",
    "# import networkx as nx\n",
    "import json\n",
    "from collections import defaultdict\n",
    "import pickle"
   ]
  },
  {
   "cell_type": "code",
   "execution_count": 6,
   "metadata": {},
   "outputs": [],
   "source": [
    "df_citations = pd.read_csv('data/covid_citations.csv', usecols=['from', 'to'], dtype={'from': object, 'to': object})\n",
    "df_papers = pd.read_csv('data/covid_papers.csv', usecols=['DOI', 'RId', 'Id'], dtype={'DOI': object, 'RId': object, 'Id': object})\n",
    "df_metadata = pd.read_csv('data/metadata.csv', usecols=['doi'], dtype={\"doi\": object})"
   ]
  },
  {
   "cell_type": "code",
   "execution_count": 15,
   "metadata": {},
   "outputs": [
    {
     "name": "stdout",
     "output_type": "stream",
     "text": [
      "(47298, 1)\n"
     ]
    }
   ],
   "source": [
    "def get_mappings():\n",
    "    mappings = []\n",
    "    cnt = 0\n",
    "    check_list = ['10.1016/j.eng.2020.03.007', '10.3760/cma.j.cn112338-20200221-00144', '10.1128/JVI.05050-11',\n",
    "                  '10.1128/JVI.01570-14', '10.1016/S2214-109X(20)30065-6', '10.1101/2020.01.30.927871']\n",
    "\n",
    "    for i, row in df_metadata.iterrows():\n",
    "        paper_id = df_papers.loc[str(row['doi']).strip() == df_papers['DOI'], 'Id'].values\n",
    "        if row['doi'] in check_list:\n",
    "            print(row['doi'], ':', paper_id)\n",
    "        if len(paper_id) > 0:\n",
    "            cnt += 1\n",
    "            mappings.append({\n",
    "                'doi': row['doi'],\n",
    "                'id': paper_id[0]\n",
    "            })\n",
    "    print(cnt)\n",
    "    with open('data/doi_to_id_mappings.json', 'w') as outfile:\n",
    "        json.dump(mappings, outfile)"
   ]
  },
  {
   "cell_type": "code",
   "execution_count": 17,
   "metadata": {},
   "outputs": [
    {
     "name": "stdout",
     "output_type": "stream",
     "text": [
      "                             doi\n",
      "15768  10.1016/j.eng.2020.03.007\n",
      "                                         doi\n",
      "43564  10.3760/cma.j.cn112338-20200221-00144\n",
      "Empty DataFrame\n",
      "Columns: [doi]\n",
      "Index: []\n",
      "Empty DataFrame\n",
      "Columns: [doi]\n",
      "Index: []\n",
      "Empty DataFrame\n",
      "Columns: [doi]\n",
      "Index: []\n",
      "Empty DataFrame\n",
      "Columns: [doi]\n",
      "Index: []\n",
      "[{'doi': '10.3760/cma.j.cn112338-20200221-00144', 'id': '3009970283'}, {'doi': '10.1128/JVI.05050-11', 'id': '2134435291'}, {'doi': '10.1128/JVI.01570-14', 'id': '1997642671'}, {'doi': '10.1101/2020.01.30.927871', 'id': '3003415761'}]\n"
     ]
    }
   ],
   "source": [
    "def check():\n",
    "    mappings = []\n",
    "    cnt = 0\n",
    "    for i in ['10.1016/j.eng.2020.03.007', '10.3760/cma.j.cn112338-20200221-00144', '10.1128/JVI.05050-11',\n",
    "                  '10.1128/JVI.01570-14', '10.1016/S2214-109X(20)30065-6', '10.1101/2020.01.30.927871']:\n",
    "        paper_id = df_papers.loc[i == df_papers['DOI'], 'Id'].values\n",
    "        print(df_metadata.loc[i == df_metadata['doi']])\n",
    "        if len(paper_id) > 0:\n",
    "            cnt += 1\n",
    "            mappings.append({\n",
    "                'doi': i,\n",
    "                'id': paper_id[0]\n",
    "            })\n",
    "    print(mappings)\n",
    "check()"
   ]
  },
  {
   "cell_type": "code",
   "execution_count": 14,
   "metadata": {},
   "outputs": [
    {
     "name": "stdout",
     "output_type": "stream",
     "text": [
      "10.1016/j.eng.2020.03.007 : []\n",
      "10.3760/cma.j.cn112338-20200221-00144 : ['3009970283']\n",
      "28836\n"
     ]
    }
   ],
   "source": [
    "get_mappings()"
   ]
  },
  {
   "cell_type": "code",
   "execution_count": null,
   "metadata": {},
   "outputs": [],
   "source": [
    "from_to_dict = defaultdict(list)\n",
    "for i, row in df_citations.iterrows():\n",
    "    from_to_dict[row['from']].append(row['to'])"
   ]
  },
  {
   "cell_type": "code",
   "execution_count": null,
   "metadata": {},
   "outputs": [],
   "source": [
    "with open('data/from_to_dict.pickle', 'wb') as handle:\n",
    "    pickle.dump(from_to_dict, handle)"
   ]
  },
  {
   "cell_type": "code",
   "execution_count": null,
   "metadata": {},
   "outputs": [],
   "source": [
    "def generate_graph(hops=2):\n",
    "    g = nx.DiGraph()\n",
    "    new_nodes = []\n",
    "    with open('data/doi_to_id_mappings.json') as infile:\n",
    "        data = json.load(infile)\n",
    "        for _ in range(hops):\n",
    "            for obj in data:\n",
    "                if obj['id'] in from_to_dict:\n",
    "                    for link in from_to_dict[obj['id']]:\n",
    "                        g.add_edge(obj['id'], link)\n",
    "                        new_nodes.append({'id': link})\n",
    "            data = list(new_nodes)\n",
    "\n",
    "    print('-------------Saving Graph--------------')\n",
    "    print('Number of nodes in the graph: ', len(g.nodes()))\n",
    "    print('Number of edges in the graph: ', len(g.edges()))\n",
    "    nx.write_gpickle(g, 'data/references_network_2hops.gpickle')\n",
    "    print('-------------Graph Saved--------------')"
   ]
  },
  {
   "cell_type": "code",
   "execution_count": null,
   "metadata": {},
   "outputs": [],
   "source": [
    "generate_graph(hops=2)"
   ]
  }
 ],
 "metadata": {
  "kernelspec": {
   "display_name": "Python 3",
   "language": "python",
   "name": "python3"
  },
  "language_info": {
   "codemirror_mode": {
    "name": "ipython",
    "version": 3
   },
   "file_extension": ".py",
   "mimetype": "text/x-python",
   "name": "python",
   "nbconvert_exporter": "python",
   "pygments_lexer": "ipython3",
   "version": "3.6.10"
  }
 },
 "nbformat": 4,
 "nbformat_minor": 4
}
