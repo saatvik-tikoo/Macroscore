{
 "cells": [
  {
   "cell_type": "code",
   "execution_count": 3,
   "metadata": {},
   "outputs": [],
   "source": [
    "import pandas as pd\n",
    "import pickle\n",
    "import json\n",
    "from collections import defaultdict"
   ]
  },
  {
   "cell_type": "code",
   "execution_count": 7,
   "metadata": {},
   "outputs": [],
   "source": [
    "my_dict = dict()\n",
    "with open('data/doi_to_id_mappings.json') as infile:\n",
    "    data = json.load(infile)\n",
    "    for obj in data:\n",
    "        my_dict[obj['id']] = obj['doi']\n",
    "\n",
    "with open('data/doi_id_mapping.pickle', 'wb') as handle:\n",
    "    pickle.dump(my_dict, handle)"
   ]
  },
  {
   "cell_type": "code",
   "execution_count": null,
   "metadata": {},
   "outputs": [],
   "source": [
    "embedding_filenames = ['data/node2vec_references_network_2hops.emb']\n",
    "final_filenames = ['data/finalData.xlsx']\n",
    "final_data = []\n",
    "with open(embedding_filenames) as f_read:\n",
    "    lines = f_read.readlines()\n",
    "    print('-----Generating Dictionary-----')\n",
    "    for idx_l, line in enumerate(lines):\n",
    "        if idx_l > 0:\n",
    "            vals = line.split(' ')\n",
    "            cur_obj = {\n",
    "                'doi': my_dict[vals[0]]\n",
    "            }\n",
    "            for _, col in enumerate(vals[1:]):\n",
    "                cur_obj['new_feature_' + str(_ + 1)] = col\n",
    "            final_data.append(cur_obj)"
   ]
  },
  {
   "cell_type": "code",
   "execution_count": null,
   "metadata": {},
   "outputs": [],
   "source": [
    "df = pd.DataFrame(final_data) \n",
    "print('-----Saving File-----')\n",
    "print(df.shape)\n",
    "df.dropna(subset=['new_feature_1'],inplace=True)\n",
    "print(df.shape)\n",
    "df.to_excel(final_filenames[0])"
   ]
  }
 ],
 "metadata": {
  "kernelspec": {
   "display_name": "Python 3",
   "language": "python",
   "name": "python3"
  },
  "language_info": {
   "codemirror_mode": {
    "name": "ipython",
    "version": 3
   },
   "file_extension": ".py",
   "mimetype": "text/x-python",
   "name": "python",
   "nbconvert_exporter": "python",
   "pygments_lexer": "ipython3",
   "version": "3.6.10"
  }
 },
 "nbformat": 4,
 "nbformat_minor": 4
}
